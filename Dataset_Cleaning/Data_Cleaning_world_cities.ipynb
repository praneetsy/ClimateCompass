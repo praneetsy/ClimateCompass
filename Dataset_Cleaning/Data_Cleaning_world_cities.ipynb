{
 "cells": [
  {
   "cell_type": "markdown",
   "id": "0ff0a043-6080-4c69-9e58-72b7b81d0761",
   "metadata": {},
   "source": [
    "# Data Cleaning\n",
    " Our source dataset contains the temperature data for 3,448 cities from 1743 to 2013. We will filter out temperature information from 1900 onwards and select the data from only the top 50 cities with the highest GDP in the world."
   ]
  },
  {
   "cell_type": "markdown",
   "id": "7d6d2aba-3c57-46f8-b7c7-c2f2936d694a",
   "metadata": {},
   "source": [
    "## 1. Read from source dataset and extract data from 1900 to 2013\n",
    "Source: https://www.kaggle.com/datasets/berkeleyearth/climate-change-earth-surface-temperature-data"
   ]
  },
  {
   "cell_type": "code",
   "execution_count": 2,
   "id": "4b11ed61-d516-4ce7-9864-345abea46b9c",
   "metadata": {},
   "outputs": [],
   "source": [
    "import pandas as pd"
   ]
  },
  {
   "cell_type": "code",
   "execution_count": 3,
   "id": "2995cbbf-bb5c-41bc-8476-72897c10d760",
   "metadata": {},
   "outputs": [],
   "source": [
    "temp_city_df = pd.read_csv(\"Earth Surface Temperature Data - Kaggle/GlobalLandTemperaturesByCity.csv\",\n",
    "                               parse_dates=['dt'],\n",
    "                               index_col=['dt'])"
   ]
  },
  {
   "cell_type": "code",
   "execution_count": 4,
   "id": "a8f6064b-2127-41b5-973a-94ecdcda8387",
   "metadata": {},
   "outputs": [
    {
     "data": {
      "text/html": [
       "<div>\n",
       "<style scoped>\n",
       "    .dataframe tbody tr th:only-of-type {\n",
       "        vertical-align: middle;\n",
       "    }\n",
       "\n",
       "    .dataframe tbody tr th {\n",
       "        vertical-align: top;\n",
       "    }\n",
       "\n",
       "    .dataframe thead th {\n",
       "        text-align: right;\n",
       "    }\n",
       "</style>\n",
       "<table border=\"1\" class=\"dataframe\">\n",
       "  <thead>\n",
       "    <tr style=\"text-align: right;\">\n",
       "      <th></th>\n",
       "      <th>AverageTemperature</th>\n",
       "      <th>AverageTemperatureUncertainty</th>\n",
       "      <th>City</th>\n",
       "      <th>Country</th>\n",
       "      <th>Latitude</th>\n",
       "      <th>Longitude</th>\n",
       "    </tr>\n",
       "    <tr>\n",
       "      <th>dt</th>\n",
       "      <th></th>\n",
       "      <th></th>\n",
       "      <th></th>\n",
       "      <th></th>\n",
       "      <th></th>\n",
       "      <th></th>\n",
       "    </tr>\n",
       "  </thead>\n",
       "  <tbody>\n",
       "    <tr>\n",
       "      <th>1743-11-01</th>\n",
       "      <td>6.068</td>\n",
       "      <td>1.737</td>\n",
       "      <td>Århus</td>\n",
       "      <td>Denmark</td>\n",
       "      <td>57.05N</td>\n",
       "      <td>10.33E</td>\n",
       "    </tr>\n",
       "    <tr>\n",
       "      <th>1743-12-01</th>\n",
       "      <td>NaN</td>\n",
       "      <td>NaN</td>\n",
       "      <td>Århus</td>\n",
       "      <td>Denmark</td>\n",
       "      <td>57.05N</td>\n",
       "      <td>10.33E</td>\n",
       "    </tr>\n",
       "    <tr>\n",
       "      <th>1744-01-01</th>\n",
       "      <td>NaN</td>\n",
       "      <td>NaN</td>\n",
       "      <td>Århus</td>\n",
       "      <td>Denmark</td>\n",
       "      <td>57.05N</td>\n",
       "      <td>10.33E</td>\n",
       "    </tr>\n",
       "    <tr>\n",
       "      <th>1744-02-01</th>\n",
       "      <td>NaN</td>\n",
       "      <td>NaN</td>\n",
       "      <td>Århus</td>\n",
       "      <td>Denmark</td>\n",
       "      <td>57.05N</td>\n",
       "      <td>10.33E</td>\n",
       "    </tr>\n",
       "    <tr>\n",
       "      <th>1744-03-01</th>\n",
       "      <td>NaN</td>\n",
       "      <td>NaN</td>\n",
       "      <td>Århus</td>\n",
       "      <td>Denmark</td>\n",
       "      <td>57.05N</td>\n",
       "      <td>10.33E</td>\n",
       "    </tr>\n",
       "  </tbody>\n",
       "</table>\n",
       "</div>"
      ],
      "text/plain": [
       "            AverageTemperature  AverageTemperatureUncertainty   City  Country  \\\n",
       "dt                                                                              \n",
       "1743-11-01               6.068                          1.737  Århus  Denmark   \n",
       "1743-12-01                 NaN                            NaN  Århus  Denmark   \n",
       "1744-01-01                 NaN                            NaN  Århus  Denmark   \n",
       "1744-02-01                 NaN                            NaN  Århus  Denmark   \n",
       "1744-03-01                 NaN                            NaN  Århus  Denmark   \n",
       "\n",
       "           Latitude Longitude  \n",
       "dt                             \n",
       "1743-11-01   57.05N    10.33E  \n",
       "1743-12-01   57.05N    10.33E  \n",
       "1744-01-01   57.05N    10.33E  \n",
       "1744-02-01   57.05N    10.33E  \n",
       "1744-03-01   57.05N    10.33E  "
      ]
     },
     "execution_count": 4,
     "metadata": {},
     "output_type": "execute_result"
    }
   ],
   "source": [
    "temp_city_df.head()"
   ]
  },
  {
   "cell_type": "code",
   "execution_count": 5,
   "id": "e23c2d85-45e6-45ae-9daa-d4f8fa238374",
   "metadata": {},
   "outputs": [],
   "source": [
    "temp_city_df = temp_city_df[temp_city_df.index > '1900-01-01']"
   ]
  },
  {
   "cell_type": "markdown",
   "id": "7b235af8-58b0-425e-8738-967dbc244e19",
   "metadata": {},
   "source": [
    "## 2. Read the list of the top 50 cities in the world with highest GDP\n",
    "Source: http://www.citymayors.com/statistics/richest-cities-2020.html"
   ]
  },
  {
   "cell_type": "code",
   "execution_count": 6,
   "id": "8a1d6eb1-581a-46a1-8d6c-142ca6bcf34e",
   "metadata": {},
   "outputs": [],
   "source": [
    "top_gdp_world_city_df = pd.read_csv(\"Data/World City GDP/WorldCityGDP2020.csv\",\n",
    "                                       index_col=['Rank'])"
   ]
  },
  {
   "cell_type": "code",
   "execution_count": 7,
   "id": "39e029f3-2310-4b4b-aeb3-7db2f5239242",
   "metadata": {},
   "outputs": [
    {
     "data": {
      "text/plain": [
       "array(['Tokyo', 'New York', 'Los Angeles', 'London', 'Chicago', 'Paris',\n",
       "       'Mexico City', 'Philadelphia', 'Osaka', 'Washington DC',\n",
       "       'Buenos Aires', 'Boston', 'Sao Paulo', 'Hong Kong', 'Dallas',\n",
       "       'Shanghai', 'Seoul', 'Atlanta', 'San Francisco', 'Houston',\n",
       "       'Miami', 'Toronto', 'Moscow', 'Mumbai', 'Madrid', 'Detroit',\n",
       "       'Istanbul', 'Seattle', 'Beijing', 'Metro Manila', 'Rio de Janeiro',\n",
       "       'Sydney', 'Jakarta', 'Delhi', 'Phoenix', 'Guangzhou',\n",
       "       'Minneapolis', 'Kolkata', 'San Diego', 'Singapore', 'Cairo',\n",
       "       'Barcelona', 'Melbourne', 'Denver', 'Rome', 'Bangkok', 'Montreal',\n",
       "       'Milan', 'Tehran', 'Riyadh'], dtype=object)"
      ]
     },
     "execution_count": 7,
     "metadata": {},
     "output_type": "execute_result"
    }
   ],
   "source": [
    "top_gdp_world_city_df.head(50)['City'].values"
   ]
  },
  {
   "cell_type": "markdown",
   "id": "134d2b80-5c62-49b1-83f1-1a473246a7cd",
   "metadata": {},
   "source": [
    "## 3. Join the 2 dataframes to get desired data with the temperature information of top 50 cities"
   ]
  },
  {
   "cell_type": "markdown",
   "id": "b9599c17-2d5b-4232-b3cb-dbc80e4dbb02",
   "metadata": {},
   "source": [
    "### 3.1 Look for any missing cities"
   ]
  },
  {
   "cell_type": "code",
   "execution_count": 8,
   "id": "a9869e25-6427-41ae-a8a3-f5e198244634",
   "metadata": {
    "scrolled": true
   },
   "outputs": [
    {
     "data": {
      "text/plain": [
       "array(['Atlanta', 'Bangkok', 'Barcelona', 'Boston', 'Cairo', 'Chicago',\n",
       "       'Dallas', 'Delhi', 'Denver', 'Detroit', 'Guangzhou', 'Houston',\n",
       "       'Istanbul', 'Jakarta', 'London', 'Los Angeles', 'Madrid',\n",
       "       'Melbourne', 'Miami', 'Milan', 'Minneapolis', 'Montreal', 'Moscow',\n",
       "       'New York', 'Paris', 'Philadelphia', 'Phoenix', 'Riyadh', 'Rome',\n",
       "       'San Diego', 'San Francisco', 'Seattle', 'Seoul', 'Shanghai',\n",
       "       'Singapore', 'Sydney', 'Tokyo', 'Toronto'], dtype=object)"
      ]
     },
     "execution_count": 8,
     "metadata": {},
     "output_type": "execute_result"
    }
   ],
   "source": [
    "top_gdp_cities_in_overall_list =  temp_city_df[temp_city_df['City'].isin(top_gdp_world_city_df.head(50)['City'])]['City'].unique()\n",
    "top_gdp_cities_in_overall_list"
   ]
  },
  {
   "cell_type": "code",
   "execution_count": 9,
   "id": "edbda22f-70e1-4c8f-a9b5-378f93b19995",
   "metadata": {},
   "outputs": [
    {
     "data": {
      "text/plain": [
       "38"
      ]
     },
     "execution_count": 9,
     "metadata": {},
     "output_type": "execute_result"
    }
   ],
   "source": [
    "len(top_gdp_cities_in_overall_list)"
   ]
  },
  {
   "cell_type": "code",
   "execution_count": 10,
   "id": "7ed14c3c-59c1-4e12-aac7-f17eeafcd90e",
   "metadata": {},
   "outputs": [
    {
     "data": {
      "text/html": [
       "<div>\n",
       "<style scoped>\n",
       "    .dataframe tbody tr th:only-of-type {\n",
       "        vertical-align: middle;\n",
       "    }\n",
       "\n",
       "    .dataframe tbody tr th {\n",
       "        vertical-align: top;\n",
       "    }\n",
       "\n",
       "    .dataframe thead th {\n",
       "        text-align: right;\n",
       "    }\n",
       "</style>\n",
       "<table border=\"1\" class=\"dataframe\">\n",
       "  <thead>\n",
       "    <tr style=\"text-align: right;\">\n",
       "      <th></th>\n",
       "      <th>City</th>\n",
       "      <th>Country</th>\n",
       "      <th>GDP_Billion_$</th>\n",
       "    </tr>\n",
       "    <tr>\n",
       "      <th>Rank</th>\n",
       "      <th></th>\n",
       "      <th></th>\n",
       "      <th></th>\n",
       "    </tr>\n",
       "  </thead>\n",
       "  <tbody>\n",
       "    <tr>\n",
       "      <th>7</th>\n",
       "      <td>Mexico City</td>\n",
       "      <td>Mexico</td>\n",
       "      <td>608</td>\n",
       "    </tr>\n",
       "    <tr>\n",
       "      <th>9</th>\n",
       "      <td>Osaka</td>\n",
       "      <td>Japan</td>\n",
       "      <td>430</td>\n",
       "    </tr>\n",
       "    <tr>\n",
       "      <th>10</th>\n",
       "      <td>Washington DC</td>\n",
       "      <td>USA</td>\n",
       "      <td>426</td>\n",
       "    </tr>\n",
       "    <tr>\n",
       "      <th>11</th>\n",
       "      <td>Buenos Aires</td>\n",
       "      <td>Argentina</td>\n",
       "      <td>416</td>\n",
       "    </tr>\n",
       "    <tr>\n",
       "      <th>13</th>\n",
       "      <td>Sao Paulo</td>\n",
       "      <td>Brazil</td>\n",
       "      <td>411</td>\n",
       "    </tr>\n",
       "    <tr>\n",
       "      <th>14</th>\n",
       "      <td>Hong Kong</td>\n",
       "      <td>China</td>\n",
       "      <td>407</td>\n",
       "    </tr>\n",
       "    <tr>\n",
       "      <th>24</th>\n",
       "      <td>Mumbai</td>\n",
       "      <td>India</td>\n",
       "      <td>300</td>\n",
       "    </tr>\n",
       "    <tr>\n",
       "      <th>29</th>\n",
       "      <td>Beijing</td>\n",
       "      <td>China</td>\n",
       "      <td>259</td>\n",
       "    </tr>\n",
       "    <tr>\n",
       "      <th>30</th>\n",
       "      <td>Metro Manila</td>\n",
       "      <td>Philippines</td>\n",
       "      <td>257</td>\n",
       "    </tr>\n",
       "    <tr>\n",
       "      <th>31</th>\n",
       "      <td>Rio de Janeiro</td>\n",
       "      <td>Brazil</td>\n",
       "      <td>256</td>\n",
       "    </tr>\n",
       "    <tr>\n",
       "      <th>38</th>\n",
       "      <td>Kolkata</td>\n",
       "      <td>India</td>\n",
       "      <td>224</td>\n",
       "    </tr>\n",
       "    <tr>\n",
       "      <th>49</th>\n",
       "      <td>Tehran</td>\n",
       "      <td>Iran</td>\n",
       "      <td>172</td>\n",
       "    </tr>\n",
       "  </tbody>\n",
       "</table>\n",
       "</div>"
      ],
      "text/plain": [
       "                City      Country  GDP_Billion_$\n",
       "Rank                                            \n",
       "7        Mexico City       Mexico            608\n",
       "9              Osaka        Japan            430\n",
       "10     Washington DC          USA            426\n",
       "11      Buenos Aires    Argentina            416\n",
       "13         Sao Paulo       Brazil            411\n",
       "14         Hong Kong        China            407\n",
       "24            Mumbai        India            300\n",
       "29           Beijing        China            259\n",
       "30      Metro Manila  Philippines            257\n",
       "31    Rio de Janeiro       Brazil            256\n",
       "38           Kolkata        India            224\n",
       "49            Tehran         Iran            172"
      ]
     },
     "execution_count": 10,
     "metadata": {},
     "output_type": "execute_result"
    }
   ],
   "source": [
    "top_gdp_world_city_df[~top_gdp_world_city_df['City'].isin(top_gdp_cities_in_overall_list)]"
   ]
  },
  {
   "cell_type": "markdown",
   "id": "7e2164a0-6f7e-4476-bf3d-ffec044ab708",
   "metadata": {},
   "source": [
    "#### We are missing 12 cities, mostly due to naming inconsistencies."
   ]
  },
  {
   "cell_type": "markdown",
   "id": "7315ddcd-dc9c-4000-90d9-a510f2a5f4b2",
   "metadata": {},
   "source": [
    "### 3.2 Change the city names to permit join"
   ]
  },
  {
   "cell_type": "code",
   "execution_count": 11,
   "id": "3fbc34b3-1137-4588-a6f8-f426ebe52161",
   "metadata": {},
   "outputs": [],
   "source": [
    "top_gdp_world_city_df.replace('Mexico City','Mexico', inplace=True)\n",
    "top_gdp_world_city_df.replace('Osaka','Kobe', inplace=True)\n",
    "top_gdp_world_city_df.replace('Washington DC','Washington', inplace=True)\n",
    "top_gdp_world_city_df.replace('Buenos Aires','La Plata', inplace=True)\n",
    "top_gdp_world_city_df.replace('Sao Paulo','São Paulo', inplace=True)\n",
    "top_gdp_world_city_df.replace('Mumbai','Bombay', inplace=True)\n",
    "top_gdp_world_city_df.replace('Beijing','Peking', inplace=True)\n",
    "top_gdp_world_city_df.replace('Metro Manila','Manila', inplace=True)\n",
    "top_gdp_world_city_df.replace('Rio de Janeiro','Rio De Janeiro', inplace=True)\n",
    "top_gdp_world_city_df.replace('Kolkata','Calcutta', inplace=True)"
   ]
  },
  {
   "cell_type": "code",
   "execution_count": 12,
   "id": "a1dd9719-ac6b-47ac-ae36-58083a107a0b",
   "metadata": {},
   "outputs": [
    {
     "name": "stdout",
     "output_type": "stream",
     "text": [
      "48\n"
     ]
    },
    {
     "data": {
      "text/html": [
       "<div>\n",
       "<style scoped>\n",
       "    .dataframe tbody tr th:only-of-type {\n",
       "        vertical-align: middle;\n",
       "    }\n",
       "\n",
       "    .dataframe tbody tr th {\n",
       "        vertical-align: top;\n",
       "    }\n",
       "\n",
       "    .dataframe thead th {\n",
       "        text-align: right;\n",
       "    }\n",
       "</style>\n",
       "<table border=\"1\" class=\"dataframe\">\n",
       "  <thead>\n",
       "    <tr style=\"text-align: right;\">\n",
       "      <th></th>\n",
       "      <th>City</th>\n",
       "      <th>Country</th>\n",
       "      <th>GDP_Billion_$</th>\n",
       "    </tr>\n",
       "    <tr>\n",
       "      <th>Rank</th>\n",
       "      <th></th>\n",
       "      <th></th>\n",
       "      <th></th>\n",
       "    </tr>\n",
       "  </thead>\n",
       "  <tbody>\n",
       "    <tr>\n",
       "      <th>14</th>\n",
       "      <td>Hong Kong</td>\n",
       "      <td>China</td>\n",
       "      <td>407</td>\n",
       "    </tr>\n",
       "    <tr>\n",
       "      <th>49</th>\n",
       "      <td>Tehran</td>\n",
       "      <td>Iran</td>\n",
       "      <td>172</td>\n",
       "    </tr>\n",
       "  </tbody>\n",
       "</table>\n",
       "</div>"
      ],
      "text/plain": [
       "           City Country  GDP_Billion_$\n",
       "Rank                                  \n",
       "14    Hong Kong   China            407\n",
       "49       Tehran    Iran            172"
      ]
     },
     "execution_count": 12,
     "metadata": {},
     "output_type": "execute_result"
    }
   ],
   "source": [
    "top_gdp_cities_in_overall_list =  temp_city_df[temp_city_df['City'].isin(top_gdp_world_city_df.head(50)['City'])]['City'].unique()\n",
    "print(len(top_gdp_cities_in_overall_list))\n",
    "top_gdp_world_city_df[~top_gdp_world_city_df['City'].isin(top_gdp_cities_in_overall_list)]"
   ]
  },
  {
   "cell_type": "markdown",
   "id": "7d2052f5-bcf6-4693-9696-3faf06e7206f",
   "metadata": {},
   "source": [
    "#### Still 2 more cities are missing. We will try to use the geolocation information to identify the names used for Hong Kong and Tehran"
   ]
  },
  {
   "cell_type": "markdown",
   "id": "7a23a86f-2504-43e0-8d55-77002428e3ce",
   "metadata": {},
   "source": [
    "### 3.3 Filter dataset by geolocation to identify remaining missing cities"
   ]
  },
  {
   "cell_type": "markdown",
   "id": "3ae6899a-844b-4ba1-a0b5-9b4836f5aeec",
   "metadata": {},
   "source": [
    "#### Searching for Hong Kong located at 22.3193° N, 114.1694° E"
   ]
  },
  {
   "cell_type": "code",
   "execution_count": 13,
   "id": "6f446555-6730-406e-adc6-b0c63af5d485",
   "metadata": {},
   "outputs": [
    {
     "data": {
      "text/plain": [
       "array(['Sanbu', 'Taicheng', 'Zhongshan', 'Zhuhai'], dtype=object)"
      ]
     },
     "execution_count": 13,
     "metadata": {},
     "output_type": "execute_result"
    }
   ],
   "source": [
    "temp_city_df[(temp_city_df['Latitude'].str.rstrip('N,S').astype(float) > 21) & \n",
    "        (temp_city_df['Longitude'].str.rstrip('E,W').astype(float) > 113) &\n",
    "        (temp_city_df['Latitude'].str.rstrip('N,S').astype(float) < 23) & \n",
    "        (temp_city_df['Longitude'].str.rstrip('E,W').astype(float) < 115)]['City'].unique()"
   ]
  },
  {
   "cell_type": "markdown",
   "id": "16db72d3-a71c-412a-bbc2-5df0cf90e952",
   "metadata": {},
   "source": [
    "#### Searching for Tehran located at 35.7248° N, 51.3816° E"
   ]
  },
  {
   "cell_type": "code",
   "execution_count": 14,
   "id": "6960aea9-f339-4ac7-a3ea-99155b5dbc95",
   "metadata": {},
   "outputs": [
    {
     "data": {
      "text/plain": [
       "array(['Amol', 'Arak', 'Babol', 'Eslamshahr', 'Karaj', 'Kashan',\n",
       "       'Qarchak', 'Qom', 'Saveh', 'Varamin'], dtype=object)"
      ]
     },
     "execution_count": 14,
     "metadata": {},
     "output_type": "execute_result"
    }
   ],
   "source": [
    "temp_city_df[(temp_city_df['Latitude'].str.rstrip('N,S').astype(float) > 34) & \n",
    "        (temp_city_df['Longitude'].str.rstrip('E,W').astype(float) > 50) &\n",
    "        (temp_city_df['Latitude'].str.rstrip('N,S').astype(float) < 37) & \n",
    "        (temp_city_df['Longitude'].str.rstrip('E,W').astype(float) < 53)]['City'].unique()"
   ]
  },
  {
   "cell_type": "markdown",
   "id": "4d8b7f07-9bb3-4459-87b9-87b14ae4d5bf",
   "metadata": {},
   "source": [
    "#### It seems that our source dataset does not contain information of Hong Kong and Tehran. Since we have identiefied nearby cities,and since they will exhibit same climate behavior, we will use those nearby cities instead."
   ]
  },
  {
   "cell_type": "code",
   "execution_count": 15,
   "id": "72995b5a-ff74-4995-9ddc-37f6c1f43eb2",
   "metadata": {},
   "outputs": [
    {
     "name": "stdout",
     "output_type": "stream",
     "text": [
      "50\n"
     ]
    },
    {
     "data": {
      "text/html": [
       "<div>\n",
       "<style scoped>\n",
       "    .dataframe tbody tr th:only-of-type {\n",
       "        vertical-align: middle;\n",
       "    }\n",
       "\n",
       "    .dataframe tbody tr th {\n",
       "        vertical-align: top;\n",
       "    }\n",
       "\n",
       "    .dataframe thead th {\n",
       "        text-align: right;\n",
       "    }\n",
       "</style>\n",
       "<table border=\"1\" class=\"dataframe\">\n",
       "  <thead>\n",
       "    <tr style=\"text-align: right;\">\n",
       "      <th></th>\n",
       "      <th>City</th>\n",
       "      <th>Country</th>\n",
       "      <th>GDP_Billion_$</th>\n",
       "    </tr>\n",
       "    <tr>\n",
       "      <th>Rank</th>\n",
       "      <th></th>\n",
       "      <th></th>\n",
       "      <th></th>\n",
       "    </tr>\n",
       "  </thead>\n",
       "  <tbody>\n",
       "  </tbody>\n",
       "</table>\n",
       "</div>"
      ],
      "text/plain": [
       "Empty DataFrame\n",
       "Columns: [City, Country, GDP_Billion_$]\n",
       "Index: []"
      ]
     },
     "execution_count": 15,
     "metadata": {},
     "output_type": "execute_result"
    }
   ],
   "source": [
    "top_gdp_world_city_df.replace('Hong Kong','Zhuhai', inplace=True)\n",
    "top_gdp_world_city_df.replace('Tehran','Eslamshahr', inplace=True)\n",
    "\n",
    "top_gdp_cities_in_overall_list =  temp_city_df[temp_city_df['City'].isin(top_gdp_world_city_df.head(50)['City'])]['City'].unique()\n",
    "print(len(top_gdp_cities_in_overall_list))\n",
    "top_gdp_world_city_df[~top_gdp_world_city_df['City'].isin(top_gdp_cities_in_overall_list)]"
   ]
  },
  {
   "cell_type": "code",
   "execution_count": 16,
   "id": "bf3f110c-ccc2-48ee-a558-4c159eb29dfd",
   "metadata": {},
   "outputs": [
    {
     "data": {
      "text/plain": [
       "array(['Atlanta', 'Bangkok', 'Barcelona', 'Bombay', 'Boston', 'Cairo',\n",
       "       'Calcutta', 'Chicago', 'Dallas', 'Delhi', 'Denver', 'Detroit',\n",
       "       'Eslamshahr', 'Guangzhou', 'Houston', 'Istanbul', 'Jakarta',\n",
       "       'Kobe', 'La Plata', 'London', 'Los Angeles', 'Madrid', 'Manila',\n",
       "       'Melbourne', 'Mexico', 'Miami', 'Milan', 'Minneapolis', 'Montreal',\n",
       "       'Moscow', 'New York', 'Paris', 'Peking', 'Philadelphia', 'Phoenix',\n",
       "       'Rio De Janeiro', 'Riyadh', 'Rome', 'São Paulo', 'San Diego',\n",
       "       'San Francisco', 'Seattle', 'Seoul', 'Shanghai', 'Singapore',\n",
       "       'Sydney', 'Tokyo', 'Toronto', 'Washington', 'Zhuhai'], dtype=object)"
      ]
     },
     "execution_count": 16,
     "metadata": {},
     "output_type": "execute_result"
    }
   ],
   "source": [
    "top_gdp_cities_in_overall_list"
   ]
  },
  {
   "cell_type": "code",
   "execution_count": 17,
   "id": "66de2316-a360-4c72-a593-093306294804",
   "metadata": {},
   "outputs": [],
   "source": [
    "top_50_world_city_temp_df = temp_city_df[temp_city_df['City'].isin(top_gdp_cities_in_overall_list)]"
   ]
  },
  {
   "cell_type": "code",
   "execution_count": 18,
   "id": "d30f7761-6a68-4e3a-bf9d-e6e4b4d182e8",
   "metadata": {
    "scrolled": true
   },
   "outputs": [
    {
     "name": "stdout",
     "output_type": "stream",
     "text": [
      "<class 'pandas.core.frame.DataFrame'>\n",
      "DatetimeIndex: 72292 entries, 1900-02-01 to 2013-09-01\n",
      "Data columns (total 6 columns):\n",
      " #   Column                         Non-Null Count  Dtype  \n",
      "---  ------                         --------------  -----  \n",
      " 0   AverageTemperature             72260 non-null  float64\n",
      " 1   AverageTemperatureUncertainty  72260 non-null  float64\n",
      " 2   City                           72292 non-null  object \n",
      " 3   Country                        72292 non-null  object \n",
      " 4   Latitude                       72292 non-null  object \n",
      " 5   Longitude                      72292 non-null  object \n",
      "dtypes: float64(2), object(4)\n",
      "memory usage: 3.9+ MB\n"
     ]
    }
   ],
   "source": [
    "top_50_world_city_temp_df.info()"
   ]
  },
  {
   "cell_type": "markdown",
   "id": "ccc7789c-b42b-42a0-90dc-0d6060036e61",
   "metadata": {},
   "source": [
    "### 3.4 Riverting the edited city names back to original"
   ]
  },
  {
   "cell_type": "code",
   "execution_count": 19,
   "id": "4f9f8e53-aa4f-4da6-8e3e-4baad0e20011",
   "metadata": {},
   "outputs": [
    {
     "name": "stderr",
     "output_type": "stream",
     "text": [
      "/var/folders/l_/pnx7zdd15nx_h4zdjl1t3hpm0000gn/T/ipykernel_54879/285201191.py:1: SettingWithCopyWarning: \n",
      "A value is trying to be set on a copy of a slice from a DataFrame\n",
      "\n",
      "See the caveats in the documentation: https://pandas.pydata.org/pandas-docs/stable/user_guide/indexing.html#returning-a-view-versus-a-copy\n",
      "  top_50_world_city_temp_df.replace('Mexico', 'Mexico City', inplace=True)\n",
      "/var/folders/l_/pnx7zdd15nx_h4zdjl1t3hpm0000gn/T/ipykernel_54879/285201191.py:2: SettingWithCopyWarning: \n",
      "A value is trying to be set on a copy of a slice from a DataFrame\n",
      "\n",
      "See the caveats in the documentation: https://pandas.pydata.org/pandas-docs/stable/user_guide/indexing.html#returning-a-view-versus-a-copy\n",
      "  top_50_world_city_temp_df.replace('Kobe', 'Osaka', inplace=True)\n",
      "/var/folders/l_/pnx7zdd15nx_h4zdjl1t3hpm0000gn/T/ipykernel_54879/285201191.py:3: SettingWithCopyWarning: \n",
      "A value is trying to be set on a copy of a slice from a DataFrame\n",
      "\n",
      "See the caveats in the documentation: https://pandas.pydata.org/pandas-docs/stable/user_guide/indexing.html#returning-a-view-versus-a-copy\n",
      "  top_50_world_city_temp_df.replace('Washington', 'Washington DC', inplace=True)\n",
      "/var/folders/l_/pnx7zdd15nx_h4zdjl1t3hpm0000gn/T/ipykernel_54879/285201191.py:4: SettingWithCopyWarning: \n",
      "A value is trying to be set on a copy of a slice from a DataFrame\n",
      "\n",
      "See the caveats in the documentation: https://pandas.pydata.org/pandas-docs/stable/user_guide/indexing.html#returning-a-view-versus-a-copy\n",
      "  top_50_world_city_temp_df.replace('La Plata', 'Buenos Aires', inplace=True)\n",
      "/var/folders/l_/pnx7zdd15nx_h4zdjl1t3hpm0000gn/T/ipykernel_54879/285201191.py:5: SettingWithCopyWarning: \n",
      "A value is trying to be set on a copy of a slice from a DataFrame\n",
      "\n",
      "See the caveats in the documentation: https://pandas.pydata.org/pandas-docs/stable/user_guide/indexing.html#returning-a-view-versus-a-copy\n",
      "  top_50_world_city_temp_df.replace('São Paulo', 'Sao Paulo', inplace=True)\n",
      "/var/folders/l_/pnx7zdd15nx_h4zdjl1t3hpm0000gn/T/ipykernel_54879/285201191.py:6: SettingWithCopyWarning: \n",
      "A value is trying to be set on a copy of a slice from a DataFrame\n",
      "\n",
      "See the caveats in the documentation: https://pandas.pydata.org/pandas-docs/stable/user_guide/indexing.html#returning-a-view-versus-a-copy\n",
      "  top_50_world_city_temp_df.replace('Bombay', 'Mumbai', inplace=True)\n",
      "/var/folders/l_/pnx7zdd15nx_h4zdjl1t3hpm0000gn/T/ipykernel_54879/285201191.py:7: SettingWithCopyWarning: \n",
      "A value is trying to be set on a copy of a slice from a DataFrame\n",
      "\n",
      "See the caveats in the documentation: https://pandas.pydata.org/pandas-docs/stable/user_guide/indexing.html#returning-a-view-versus-a-copy\n",
      "  top_50_world_city_temp_df.replace('Peking', 'Beijing', inplace=True)\n",
      "/var/folders/l_/pnx7zdd15nx_h4zdjl1t3hpm0000gn/T/ipykernel_54879/285201191.py:8: SettingWithCopyWarning: \n",
      "A value is trying to be set on a copy of a slice from a DataFrame\n",
      "\n",
      "See the caveats in the documentation: https://pandas.pydata.org/pandas-docs/stable/user_guide/indexing.html#returning-a-view-versus-a-copy\n",
      "  top_50_world_city_temp_df.replace('Rio De Janeiro', 'Rio de Janeiro',inplace=True)\n",
      "/var/folders/l_/pnx7zdd15nx_h4zdjl1t3hpm0000gn/T/ipykernel_54879/285201191.py:9: SettingWithCopyWarning: \n",
      "A value is trying to be set on a copy of a slice from a DataFrame\n",
      "\n",
      "See the caveats in the documentation: https://pandas.pydata.org/pandas-docs/stable/user_guide/indexing.html#returning-a-view-versus-a-copy\n",
      "  top_50_world_city_temp_df.replace('Calcutta', 'Kolkata', inplace=True)\n",
      "/var/folders/l_/pnx7zdd15nx_h4zdjl1t3hpm0000gn/T/ipykernel_54879/285201191.py:10: SettingWithCopyWarning: \n",
      "A value is trying to be set on a copy of a slice from a DataFrame\n",
      "\n",
      "See the caveats in the documentation: https://pandas.pydata.org/pandas-docs/stable/user_guide/indexing.html#returning-a-view-versus-a-copy\n",
      "  top_50_world_city_temp_df.replace('Zhuhai', 'Hong Kong', inplace=True)\n",
      "/var/folders/l_/pnx7zdd15nx_h4zdjl1t3hpm0000gn/T/ipykernel_54879/285201191.py:11: SettingWithCopyWarning: \n",
      "A value is trying to be set on a copy of a slice from a DataFrame\n",
      "\n",
      "See the caveats in the documentation: https://pandas.pydata.org/pandas-docs/stable/user_guide/indexing.html#returning-a-view-versus-a-copy\n",
      "  top_50_world_city_temp_df.replace('Eslamshahr', 'Tehran', inplace=True)\n"
     ]
    }
   ],
   "source": [
    "top_50_world_city_temp_df.replace('Mexico', 'Mexico City', inplace=True)\n",
    "top_50_world_city_temp_df.replace('Kobe', 'Osaka', inplace=True)\n",
    "top_50_world_city_temp_df.replace('Washington', 'Washington DC', inplace=True)\n",
    "top_50_world_city_temp_df.replace('La Plata', 'Buenos Aires', inplace=True)\n",
    "top_50_world_city_temp_df.replace('São Paulo', 'Sao Paulo', inplace=True)\n",
    "top_50_world_city_temp_df.replace('Bombay', 'Mumbai', inplace=True)\n",
    "top_50_world_city_temp_df.replace('Peking', 'Beijing', inplace=True)\n",
    "top_50_world_city_temp_df.replace('Rio De Janeiro', 'Rio de Janeiro',inplace=True)\n",
    "top_50_world_city_temp_df.replace('Calcutta', 'Kolkata', inplace=True)\n",
    "top_50_world_city_temp_df.replace('Zhuhai', 'Hong Kong', inplace=True)\n",
    "top_50_world_city_temp_df.replace('Eslamshahr', 'Tehran', inplace=True)"
   ]
  },
  {
   "cell_type": "markdown",
   "id": "4982d548-db1d-4a11-a544-5eaca1c025c7",
   "metadata": {},
   "source": [
    "#### We have obtained our required cleaned dataset"
   ]
  },
  {
   "cell_type": "markdown",
   "id": "cb7e3e89-06c6-484c-ad20-a1d1211641e6",
   "metadata": {},
   "source": [
    "## 4. Export data to csv"
   ]
  },
  {
   "cell_type": "code",
   "execution_count": 20,
   "id": "70a3b2b8-28e0-4448-908f-08ff6c166ebe",
   "metadata": {},
   "outputs": [],
   "source": [
    "top_50_world_city_temp_df.to_csv(\"Data/Cleaned/top_50_world_city_temp.csv\")"
   ]
  }
 ],
 "metadata": {
  "kernelspec": {
   "display_name": "Python 3 (ipykernel)",
   "language": "python",
   "name": "python3"
  },
  "language_info": {
   "codemirror_mode": {
    "name": "ipython",
    "version": 3
   },
   "file_extension": ".py",
   "mimetype": "text/x-python",
   "name": "python",
   "nbconvert_exporter": "python",
   "pygments_lexer": "ipython3",
   "version": "3.12.0"
  }
 },
 "nbformat": 4,
 "nbformat_minor": 5
}
